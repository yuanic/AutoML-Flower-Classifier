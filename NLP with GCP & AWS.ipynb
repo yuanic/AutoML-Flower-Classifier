{
  "nbformat": 4,
  "nbformat_minor": 0,
  "metadata": {
    "colab": {
      "name": "BAX 452 Homework 9 - NLP.ipynb",
      "version": "0.3.2",
      "provenance": [],
      "collapsed_sections": [],
      "toc_visible": true,
      "include_colab_link": true
    },
    "kernelspec": {
      "name": "python3",
      "display_name": "Python 3"
    }
  },
  "cells": [
    {
      "cell_type": "markdown",
      "metadata": {
        "id": "view-in-github",
        "colab_type": "text"
      },
      "source": [
        "<a href=\"https://colab.research.google.com/github/yuanic/AutoML-Flower-Classifier/blob/master/NLP%20with%20GCP%20%26%20AWS.ipynb\" target=\"_parent\"><img src=\"https://colab.research.google.com/assets/colab-badge.svg\" alt=\"Open In Colab\"/></a>"
      ]
    },
    {
      "metadata": {
        "id": "kPRsDcVfNfHG",
        "colab_type": "text"
      },
      "cell_type": "markdown",
      "source": [
        "## 1. Set Up"
      ]
    },
    {
      "metadata": {
        "id": "uFXnlSzOKxC_",
        "colab_type": "text"
      },
      "cell_type": "markdown",
      "source": [
        "### 1.1 Installing textblob\n",
        "\n"
      ]
    },
    {
      "metadata": {
        "id": "gHhz7655K1f5",
        "colab_type": "code",
        "colab": {}
      },
      "cell_type": "code",
      "source": [
        "!pip -q install -U textblob"
      ],
      "execution_count": 0,
      "outputs": []
    },
    {
      "metadata": {
        "id": "JHkjgEwQNkqO",
        "colab_type": "text"
      },
      "cell_type": "markdown",
      "source": [
        "### 1.2 Connecting to Google Drive"
      ]
    },
    {
      "metadata": {
        "id": "cyh7BLBYS0ST",
        "colab_type": "text"
      },
      "cell_type": "markdown",
      "source": [
        "Additional steps to connect to Google & AWS API are found in their respective sections."
      ]
    },
    {
      "metadata": {
        "id": "LuGF5FuzNRKr",
        "colab_type": "code",
        "outputId": "919134d0-79ac-423d-d440-0e01b17c59ce",
        "colab": {
          "base_uri": "https://localhost:8080/",
          "height": 122
        }
      },
      "cell_type": "code",
      "source": [
        "## mount google drive to allow access to credentials saved\n",
        "from google.colab import drive\n",
        "drive.mount('/content/gdrive')"
      ],
      "execution_count": 0,
      "outputs": [
        {
          "output_type": "stream",
          "text": [
            "Go to this URL in a browser: https://accounts.google.com/o/oauth2/auth?client_id=947318989803-6bn6qk8qdgf4n4g3pfee6491hc0brc4i.apps.googleusercontent.com&redirect_uri=urn%3Aietf%3Awg%3Aoauth%3A2.0%3Aoob&scope=email%20https%3A%2F%2Fwww.googleapis.com%2Fauth%2Fdocs.test%20https%3A%2F%2Fwww.googleapis.com%2Fauth%2Fdrive%20https%3A%2F%2Fwww.googleapis.com%2Fauth%2Fdrive.photos.readonly%20https%3A%2F%2Fwww.googleapis.com%2Fauth%2Fpeopleapi.readonly&response_type=code\n",
            "\n",
            "Enter your authorization code:\n",
            "··········\n",
            "Mounted at /content/gdrive\n"
          ],
          "name": "stdout"
        }
      ]
    },
    {
      "metadata": {
        "id": "qVPHyhHWNoBj",
        "colab_type": "text"
      },
      "cell_type": "markdown",
      "source": [
        "## 2. Getting Data from CNBC"
      ]
    },
    {
      "metadata": {
        "id": "_m6ZSeE0JNZu",
        "colab_type": "text"
      },
      "cell_type": "markdown",
      "source": [
        "### 2.1 Making a Pandas DataFrame from scratch"
      ]
    },
    {
      "metadata": {
        "id": "cKDMQwU0Hvey",
        "colab_type": "code",
        "outputId": "0fe37c60-8870-4efb-b49d-24c0147b5c8e",
        "colab": {
          "base_uri": "https://localhost:8080/",
          "height": 68
        }
      },
      "cell_type": "code",
      "source": [
        "import pandas as pd\n",
        "from textblob import TextBlob\n",
        "import urllib.request\n",
        "from bs4 import BeautifulSoup\n",
        "import nltk\n",
        "nltk.download('punkt')"
      ],
      "execution_count": 0,
      "outputs": [
        {
          "output_type": "stream",
          "text": [
            "[nltk_data] Downloading package punkt to /root/nltk_data...\n",
            "[nltk_data]   Package punkt is already up-to-date!\n"
          ],
          "name": "stdout"
        },
        {
          "output_type": "execute_result",
          "data": {
            "text/plain": [
              "True"
            ]
          },
          "metadata": {
            "tags": []
          },
          "execution_count": 4
        }
      ]
    },
    {
      "metadata": {
        "id": "b9tAbr8HWpsG",
        "colab_type": "code",
        "outputId": "f7cb3f63-941a-4ffe-fb7b-a2649b96c4a0",
        "colab": {
          "base_uri": "https://localhost:8080/",
          "height": 54
        }
      },
      "cell_type": "code",
      "source": [
        "## get data from url\n",
        "target_url=\"https://www.cnbc.com/2019/01/09/government-shutdown-tsa-officers-set-to-miss-a-paycheck-this-friday.html\"\n",
        "page = urllib.request.urlopen(target_url) #For python 3 use urllib.request.urlopen(target_url)\n",
        "soup = BeautifulSoup(page)\n",
        "#paras = soup.find_all(\"div\", {\"itemprop\":\"articleBody\"})[1].find_all(\"p\")\n",
        "paras0 = soup.find_all(\"div\", attrs={\"itemprop\" : \"articleBody\"})[0].find_all(\"p\")\n",
        "paras1 = soup.find_all(\"div\", attrs={\"itemprop\" : \"articleBody\"})[1].find_all(\"p\")\n",
        "\n",
        "content0 = \" \".join([para.getText() for para in paras0])\n",
        "content1 = \" \".join([para.getText() for para in paras1])\n",
        "content= content0+content1\n",
        "content"
      ],
      "execution_count": 0,
      "outputs": [
        {
          "output_type": "execute_result",
          "data": {
            "text/plain": [
              "'Transportation Security Administration screeners at U.S. airports are facing their first missed paychecks as an impasse between President Donald Trump and lawmakers over funding for a new barrier at the U.S. border extends what is already one of the longest-ever government shutdowns. On Wednesday, talks broke down between Trump, House Speaker Nancy Pelosi and Senate Minority Leader Chuck Schumer. Trump called the meeting \"a total waste of time.\" The some 51,000 TSA officers have been working without an idea of when their next paycheck would arrive since the shutdown began Dec. 22. Airport representatives and air traffic controllers are fretting about the prolonged closure. \"Federal staffing and other resource shortfalls brought on by this shutdown threaten existing and new air service to communities across the country, harming air travelers, businesses, and regional economies all over America,\" the Airports Council International trade group wrote in Jan. 8 letter to Trump, Pelosi and Senate Majority Leader Mitch McConnell. \"A true national crisis would develop if we cripple the U.S. aviation system in this manner.\" Airlines for America, a trade group that represents several carriers, including American Airlines, United Airlines and FedEx, said that some companies are already seeing the impact from the shutdown \"specifically regarding certification of new aircraft and the implementation of new training programs for pilots, as well as training for air traffic controllers and other aviation employees.\" Air traffic controllers and flight attendants are scheduled to protest the shutdown near the Capitol in Washington on Thursday afternoon. The TSA workers are among the roughly 420,000 federal employees deemed essential who must work through the shutdown, but without pay. That also includes more than 14,000 air traffic controllers. \"It must end,\" Doug Church, a spokesman for the National Air Traffic Controllers Association, the union that represents more than 14,000 U.S. air traffic controllers, said of the shutdown. \"Aviation is not a political issue.\" The TSA acknowledged that slightly more of its officers were calling out sick this year than last year but said it was not disrupting air travel. \"There has been no degradation in security effectiveness and average wait times are well within TSA standards,\" the agency said in a statement. \"We are grateful to our officers for continuing to carry out the mission of securing the transportation system during this period.\" Some of the workers are preparing to miss at least one paycheck. \"No one wants to miss a check. One is too many,\" said one three-year TSA officer at LaGuardia Airport in New York who asked that his name not be used because he was not authorized to speak to reporters. He said he would use savings to pay rent for the apartment in Queens he shares with his parents. Another officer at LaGuardia said his landlord in the Bronx is allowing him to pay his rent late and \"has been understanding.\" He said it is more difficult to negotiate with his credit card and cellphone service. He said he is not planning to quit the TSA but said he would consider getting a side job to make ends meet.'"
            ]
          },
          "metadata": {
            "tags": []
          },
          "execution_count": 5
        }
      ]
    },
    {
      "metadata": {
        "id": "gPZPVScvYZ2c",
        "colab_type": "code",
        "outputId": "65a9763f-e218-4218-9dc4-59ec3367cb55",
        "colab": {
          "base_uri": "https://localhost:8080/",
          "height": 712
        }
      },
      "cell_type": "code",
      "source": [
        "## get data from url\n",
        "target_url=\"https://www.cnbc.com/2019/01/10/beijing-issues-statement-on-us-china-trade-talks.html\"\n",
        "page = urllib.request.urlopen(target_url) #For python 3 use urllib.request.urlopen(target_url)\n",
        "soup = BeautifulSoup(page)\n",
        "paras0 = soup.find_all(\"div\", attrs={\"itemprop\" : \"articleBody\"})[0].find_all(\"p\")\n",
        "paras1 = soup.find_all(\"div\", attrs={\"itemprop\" : \"articleBody\"})[1].find_all(\"p\")\n",
        "\n",
        "content0 = \" \".join([para.getText() for para in paras0])\n",
        "content1 = \" \".join([para.getText() for para in paras1])\n",
        "content= content0+content1\n",
        "content\n",
        "\n",
        "## format content into seperate sentences; store in seperate rows in a  dataframe\n",
        "content_sentence = TextBlob(content).sentences\n",
        "df = []\n",
        "for sentence in content_sentence:\n",
        "  text = str(sentence)\n",
        "  text_len = len(text)\n",
        "  df.append(text)\n",
        "\n",
        "df = pd.DataFrame(df)\n",
        "df.columns=['sentence']\n",
        "pd.set_option('display.max_colwidth', -1)\n",
        "df"
      ],
      "execution_count": 0,
      "outputs": [
        {
          "output_type": "execute_result",
          "data": {
            "text/html": [
              "<div>\n",
              "<style scoped>\n",
              "    .dataframe tbody tr th:only-of-type {\n",
              "        vertical-align: middle;\n",
              "    }\n",
              "\n",
              "    .dataframe tbody tr th {\n",
              "        vertical-align: top;\n",
              "    }\n",
              "\n",
              "    .dataframe thead th {\n",
              "        text-align: right;\n",
              "    }\n",
              "</style>\n",
              "<table border=\"1\" class=\"dataframe\">\n",
              "  <thead>\n",
              "    <tr style=\"text-align: right;\">\n",
              "      <th></th>\n",
              "      <th>sentence</th>\n",
              "    </tr>\n",
              "  </thead>\n",
              "  <tbody>\n",
              "    <tr>\n",
              "      <th>0</th>\n",
              "      <td>In a Thursday morning statement, China's Commerce Ministry said the just-concluded round of trade talks with the U.S. were extensive and established a foundation for the resolution of each others' concerns.</td>\n",
              "    </tr>\n",
              "    <tr>\n",
              "      <th>1</th>\n",
              "      <td>Both parties, the Beijing ministry said, agreed to maintain close contact.</td>\n",
              "    </tr>\n",
              "    <tr>\n",
              "      <th>2</th>\n",
              "      <td>Here's the full three-sentence statement, as translated from Chinese by CNBC: From Jan. 7 to 9, China and the U.S. held discussions in Beijing at a vice-ministerial level over the issue of trade.</td>\n",
              "    </tr>\n",
              "    <tr>\n",
              "      <th>3</th>\n",
              "      <td>Both sides enthusiastically implemented the important agreement of the heads of both countries, and held broad, deep and meticulous discussions on shared observations on trade issues and structural problems, laying the foundation for addressing areas of common concern.</td>\n",
              "    </tr>\n",
              "    <tr>\n",
              "      <th>4</th>\n",
              "      <td>Both sides agreed to continue to keep in close contact.</td>\n",
              "    </tr>\n",
              "    <tr>\n",
              "      <th>5</th>\n",
              "      <td>The U.S. side had issued its own statement earlier in the day, noting a long list of outstanding issues, but also recognizing that China had pledged to purchase \"a substantial amount of agricultural, energy, manufactured goods, and other products and services from the United States.</td>\n",
              "    </tr>\n",
              "    <tr>\n",
              "      <th>6</th>\n",
              "      <td>\"The talks lasted for three days in Beijing — one day longer than had been previously announced, which analysts said indicated the discussions were making some progress.</td>\n",
              "    </tr>\n",
              "    <tr>\n",
              "      <th>7</th>\n",
              "      <td>Gao Feng, a spokesman for China's Commerce Ministry, said Thursday afternoon that the length of the meeting indicated that both sides were serious and honest.</td>\n",
              "    </tr>\n",
              "    <tr>\n",
              "      <th>8</th>\n",
              "      <td>He added that the structural issues that made progress during the talks included forced tech transfers and the protection of intellectual property rights.</td>\n",
              "    </tr>\n",
              "    <tr>\n",
              "      <th>9</th>\n",
              "      <td>Another signal that experts cheered: China's top trade negotiator Liu He reportedly stopped by the negotiating room on Monday, which was unexpected given that the talks were just meant to be held at the vice-ministerial level.</td>\n",
              "    </tr>\n",
              "    <tr>\n",
              "      <th>10</th>\n",
              "      <td>During a Chinese foreign ministry briefing on Monday, spokesperson Lu Kang said that \"China is sincere about properly resolving trade frictions on the basis of mutual respect, equality, mutual benefit and reciprocity,\" according to an official translation.</td>\n",
              "    </tr>\n",
              "    <tr>\n",
              "      <th>11</th>\n",
              "      <td>He would not confirm a media report saying Chinese Vice President Wang Qishan will meet with US President Trump during the World Economic Forum's 2019 Annual Meeting in Davos, Switzerland.</td>\n",
              "    </tr>\n",
              "    <tr>\n",
              "      <th>12</th>\n",
              "      <td>In early December, U.S. President Donald Trump and Chinese President Xi Jinping agreed to a temporary ceasefire, giving both sides until March to reach some agreement on trade and issues such as the forced transfer of technology.</td>\n",
              "    </tr>\n",
              "    <tr>\n",
              "      <th>13</th>\n",
              "      <td>Trade tensions between the world's two largest economies escalated last year, putting global stock markets on edge.</td>\n",
              "    </tr>\n",
              "    <tr>\n",
              "      <th>14</th>\n",
              "      <td>The U.S. announced tariffs on $250 billion worth of Chinese goods, while Beijing countered with its own.</td>\n",
              "    </tr>\n",
              "    <tr>\n",
              "      <th>15</th>\n",
              "      <td>—CNBC's Evelyn Cheng and Reuters contributed to this report.</td>\n",
              "    </tr>\n",
              "    <tr>\n",
              "      <th>16</th>\n",
              "      <td>WATCH: The clash between Chinese and American trade objectives</td>\n",
              "    </tr>\n",
              "  </tbody>\n",
              "</table>\n",
              "</div>"
            ],
            "text/plain": [
              "                                                                                                                                                                                                                                                                                       sentence\n",
              "0   In a Thursday morning statement, China's Commerce Ministry said the just-concluded round of trade talks with the U.S. were extensive and established a foundation for the resolution of each others' concerns.                                                                             \n",
              "1   Both parties, the Beijing ministry said, agreed to maintain close contact.                                                                                                                                                                                                                 \n",
              "2   Here's the full three-sentence statement, as translated from Chinese by CNBC: From Jan. 7 to 9, China and the U.S. held discussions in Beijing at a vice-ministerial level over the issue of trade.                                                                                        \n",
              "3   Both sides enthusiastically implemented the important agreement of the heads of both countries, and held broad, deep and meticulous discussions on shared observations on trade issues and structural problems, laying the foundation for addressing areas of common concern.              \n",
              "4   Both sides agreed to continue to keep in close contact.                                                                                                                                                                                                                                    \n",
              "5   The U.S. side had issued its own statement earlier in the day, noting a long list of outstanding issues, but also recognizing that China had pledged to purchase \"a substantial amount of agricultural, energy, manufactured goods, and other products and services from the United States.\n",
              "6   \"The talks lasted for three days in Beijing — one day longer than had been previously announced, which analysts said indicated the discussions were making some progress.                                                                                                                  \n",
              "7   Gao Feng, a spokesman for China's Commerce Ministry, said Thursday afternoon that the length of the meeting indicated that both sides were serious and honest.                                                                                                                             \n",
              "8   He added that the structural issues that made progress during the talks included forced tech transfers and the protection of intellectual property rights.                                                                                                                                 \n",
              "9   Another signal that experts cheered: China's top trade negotiator Liu He reportedly stopped by the negotiating room on Monday, which was unexpected given that the talks were just meant to be held at the vice-ministerial level.                                                         \n",
              "10  During a Chinese foreign ministry briefing on Monday, spokesperson Lu Kang said that \"China is sincere about properly resolving trade frictions on the basis of mutual respect, equality, mutual benefit and reciprocity,\" according to an official translation.                           \n",
              "11  He would not confirm a media report saying Chinese Vice President Wang Qishan will meet with US President Trump during the World Economic Forum's 2019 Annual Meeting in Davos, Switzerland.                                                                                               \n",
              "12  In early December, U.S. President Donald Trump and Chinese President Xi Jinping agreed to a temporary ceasefire, giving both sides until March to reach some agreement on trade and issues such as the forced transfer of technology.                                                      \n",
              "13  Trade tensions between the world's two largest economies escalated last year, putting global stock markets on edge.                                                                                                                                                                        \n",
              "14  The U.S. announced tariffs on $250 billion worth of Chinese goods, while Beijing countered with its own.                                                                                                                                                                                   \n",
              "15  —CNBC's Evelyn Cheng and Reuters contributed to this report.                                                                                                                                                                                                                               \n",
              "16  WATCH: The clash between Chinese and American trade objectives                                                                                                                                                                                                                             "
            ]
          },
          "metadata": {
            "tags": []
          },
          "execution_count": 6
        }
      ]
    },
    {
      "metadata": {
        "id": "rBsDK527VX5Y",
        "colab_type": "code",
        "outputId": "b6326b9d-048a-41d5-8201-b84536ec008f",
        "colab": {
          "base_uri": "https://localhost:8080/",
          "height": 326
        }
      },
      "cell_type": "code",
      "source": [
        "content_sentence"
      ],
      "execution_count": 0,
      "outputs": [
        {
          "output_type": "execute_result",
          "data": {
            "text/plain": [
              "[Sentence(\"In a Thursday morning statement, China's Commerce Ministry said the just-concluded round of trade talks with the U.S. were extensive and established a foundation for the resolution of each others' concerns.\"),\n",
              " Sentence(\"Both parties, the Beijing ministry said, agreed to maintain close contact.\"),\n",
              " Sentence(\"Here's the full three-sentence statement, as translated from Chinese by CNBC: From Jan. 7 to 9, China and the U.S. held discussions in Beijing at a vice-ministerial level over the issue of trade.\"),\n",
              " Sentence(\"Both sides enthusiastically implemented the important agreement of the heads of both countries, and held broad, deep and meticulous discussions on shared observations on trade issues and structural problems, laying the foundation for addressing areas of common concern.\"),\n",
              " Sentence(\"Both sides agreed to continue to keep in close contact.\"),\n",
              " Sentence(\"The U.S. side had issued its own statement earlier in the day, noting a long list of outstanding issues, but also recognizing that China had pledged to purchase \"a substantial amount of agricultural, energy, manufactured goods, and other products and services from the United States.\"),\n",
              " Sentence(\"\"The talks lasted for three days in Beijing — one day longer than had been previously announced, which analysts said indicated the discussions were making some progress.\"),\n",
              " Sentence(\"Gao Feng, a spokesman for China's Commerce Ministry, said Thursday afternoon that the length of the meeting indicated that both sides were serious and honest.\"),\n",
              " Sentence(\"He added that the structural issues that made progress during the talks included forced tech transfers and the protection of intellectual property rights.\"),\n",
              " Sentence(\"Another signal that experts cheered: China's top trade negotiator Liu He reportedly stopped by the negotiating room on Monday, which was unexpected given that the talks were just meant to be held at the vice-ministerial level.\"),\n",
              " Sentence(\"During a Chinese foreign ministry briefing on Monday, spokesperson Lu Kang said that \"China is sincere about properly resolving trade frictions on the basis of mutual respect, equality, mutual benefit and reciprocity,\" according to an official translation.\"),\n",
              " Sentence(\"He would not confirm a media report saying Chinese Vice President Wang Qishan will meet with US President Trump during the World Economic Forum's 2019 Annual Meeting in Davos, Switzerland.\"),\n",
              " Sentence(\"In early December, U.S. President Donald Trump and Chinese President Xi Jinping agreed to a temporary ceasefire, giving both sides until March to reach some agreement on trade and issues such as the forced transfer of technology.\"),\n",
              " Sentence(\"Trade tensions between the world's two largest economies escalated last year, putting global stock markets on edge.\"),\n",
              " Sentence(\"The U.S. announced tariffs on $250 billion worth of Chinese goods, while Beijing countered with its own.\"),\n",
              " Sentence(\"—CNBC's Evelyn Cheng and Reuters contributed to this report.\"),\n",
              " Sentence(\"WATCH: The clash between Chinese and American trade objectives\")]"
            ]
          },
          "metadata": {
            "tags": []
          },
          "execution_count": 7
        }
      ]
    },
    {
      "metadata": {
        "id": "ErJerROzJ0Mc",
        "colab_type": "text"
      },
      "cell_type": "markdown",
      "source": [
        "### 2.2 Creating an Apply function\n",
        "Creating an apply function makes it easy to apply the function to multiple bodies of text without repeating code. In this exercise, we will be scoring the sentiment of each individual sentence. Apply function will enable us to do so down the pandas dataframe."
      ]
    },
    {
      "metadata": {
        "id": "iBBUxcZ_KFIp",
        "colab_type": "code",
        "colab": {}
      },
      "cell_type": "code",
      "source": [
        "## exclude scoring from sentences with '\"' as they represent a reported statement and should not be judged.\n",
        "def score_polarity(sentence):\n",
        "  if '\"' not in sentence: \n",
        "    analyze_sentence = TextBlob(sentence)\n",
        "    sentiment_score = analyze_sentence.sentiment\n",
        "    return sentiment_score.polarity\n",
        "\n",
        "def score_subjectivity(sentence):\n",
        "  if '\"' not in sentence: \n",
        "    analyze_sentence = TextBlob(sentence)\n",
        "    sentiment_score = analyze_sentence.sentiment\n",
        "    return sentiment_score.subjectivity\n"
      ],
      "execution_count": 0,
      "outputs": []
    },
    {
      "metadata": {
        "id": "zqg5djAiMuCv",
        "colab_type": "code",
        "outputId": "29eeee2a-177d-4a2e-89be-80d214e15dc2",
        "colab": {
          "base_uri": "https://localhost:8080/",
          "height": 255
        }
      },
      "cell_type": "code",
      "source": [
        "df[\"Polarity\"] = df[\"sentence\"].apply(score_polarity)\n",
        "df[\"Subjectivity\"] = df[\"sentence\"].apply(score_subjectivity)\n",
        "pd.set_option('display.max_colwidth', -1)\n",
        "df.head()"
      ],
      "execution_count": 0,
      "outputs": [
        {
          "output_type": "execute_result",
          "data": {
            "text/html": [
              "<div>\n",
              "<style scoped>\n",
              "    .dataframe tbody tr th:only-of-type {\n",
              "        vertical-align: middle;\n",
              "    }\n",
              "\n",
              "    .dataframe tbody tr th {\n",
              "        vertical-align: top;\n",
              "    }\n",
              "\n",
              "    .dataframe thead th {\n",
              "        text-align: right;\n",
              "    }\n",
              "</style>\n",
              "<table border=\"1\" class=\"dataframe\">\n",
              "  <thead>\n",
              "    <tr style=\"text-align: right;\">\n",
              "      <th></th>\n",
              "      <th>sentence</th>\n",
              "      <th>Polarity</th>\n",
              "      <th>Subjectivity</th>\n",
              "    </tr>\n",
              "  </thead>\n",
              "  <tbody>\n",
              "    <tr>\n",
              "      <th>0</th>\n",
              "      <td>In a Thursday morning statement, China's Commerce Ministry said the just-concluded round of trade talks with the U.S. were extensive and established a foundation for the resolution of each others' concerns.</td>\n",
              "      <td>-0.100000</td>\n",
              "      <td>0.366667</td>\n",
              "    </tr>\n",
              "    <tr>\n",
              "      <th>1</th>\n",
              "      <td>Both parties, the Beijing ministry said, agreed to maintain close contact.</td>\n",
              "      <td>0.000000</td>\n",
              "      <td>0.000000</td>\n",
              "    </tr>\n",
              "    <tr>\n",
              "      <th>2</th>\n",
              "      <td>Here's the full three-sentence statement, as translated from Chinese by CNBC: From Jan. 7 to 9, China and the U.S. held discussions in Beijing at a vice-ministerial level over the issue of trade.</td>\n",
              "      <td>0.175000</td>\n",
              "      <td>0.275000</td>\n",
              "    </tr>\n",
              "    <tr>\n",
              "      <th>3</th>\n",
              "      <td>Both sides enthusiastically implemented the important agreement of the heads of both countries, and held broad, deep and meticulous discussions on shared observations on trade issues and structural problems, laying the foundation for addressing areas of common concern.</td>\n",
              "      <td>0.040625</td>\n",
              "      <td>0.553125</td>\n",
              "    </tr>\n",
              "    <tr>\n",
              "      <th>4</th>\n",
              "      <td>Both sides agreed to continue to keep in close contact.</td>\n",
              "      <td>0.000000</td>\n",
              "      <td>0.000000</td>\n",
              "    </tr>\n",
              "  </tbody>\n",
              "</table>\n",
              "</div>"
            ],
            "text/plain": [
              "                                                                                                                                                                                                                                                                        sentence  \\\n",
              "0  In a Thursday morning statement, China's Commerce Ministry said the just-concluded round of trade talks with the U.S. were extensive and established a foundation for the resolution of each others' concerns.                                                                  \n",
              "1  Both parties, the Beijing ministry said, agreed to maintain close contact.                                                                                                                                                                                                      \n",
              "2  Here's the full three-sentence statement, as translated from Chinese by CNBC: From Jan. 7 to 9, China and the U.S. held discussions in Beijing at a vice-ministerial level over the issue of trade.                                                                             \n",
              "3  Both sides enthusiastically implemented the important agreement of the heads of both countries, and held broad, deep and meticulous discussions on shared observations on trade issues and structural problems, laying the foundation for addressing areas of common concern.   \n",
              "4  Both sides agreed to continue to keep in close contact.                                                                                                                                                                                                                         \n",
              "\n",
              "   Polarity  Subjectivity  \n",
              "0 -0.100000  0.366667      \n",
              "1  0.000000  0.000000      \n",
              "2  0.175000  0.275000      \n",
              "3  0.040625  0.553125      \n",
              "4  0.000000  0.000000      "
            ]
          },
          "metadata": {
            "tags": []
          },
          "execution_count": 10
        }
      ]
    },
    {
      "metadata": {
        "id": "qdWQ8VZU39uG",
        "colab_type": "code",
        "outputId": "0a989441-1fdf-47cc-8953-31f1452783da",
        "colab": {
          "base_uri": "https://localhost:8080/",
          "height": 34
        }
      },
      "cell_type": "code",
      "source": [
        "df[\"Polarity\"].mean() ## Use the mean score as the overall score for the article"
      ],
      "execution_count": 0,
      "outputs": [
        {
          "output_type": "execute_result",
          "data": {
            "text/plain": [
              "0.06421130952380952"
            ]
          },
          "metadata": {
            "tags": []
          },
          "execution_count": 11
        }
      ]
    },
    {
      "metadata": {
        "id": "5eakail9-MtR",
        "colab_type": "code",
        "outputId": "efb5c999-98bc-43d3-9df2-fcd48ce2e4d3",
        "colab": {
          "base_uri": "https://localhost:8080/",
          "height": 34
        }
      },
      "cell_type": "code",
      "source": [
        "df[\"Subjectivity\"].mean() ## Use the mean score as the overall score for the article"
      ],
      "execution_count": 0,
      "outputs": [
        {
          "output_type": "execute_result",
          "data": {
            "text/plain": [
              "0.26986607142857144"
            ]
          },
          "metadata": {
            "tags": []
          },
          "execution_count": 12
        }
      ]
    },
    {
      "metadata": {
        "id": "GGyIto97_l-B",
        "colab_type": "text"
      },
      "cell_type": "markdown",
      "source": [
        "## 3. Textblop\n"
      ]
    },
    {
      "metadata": {
        "id": "egEq2PAkTBi0",
        "colab_type": "text"
      },
      "cell_type": "markdown",
      "source": [
        "### 3.1 Comparing 2 articles with Textblop"
      ]
    },
    {
      "metadata": {
        "id": "FpuQL-2qTAv3",
        "colab_type": "text"
      },
      "cell_type": "markdown",
      "source": [
        "Using the final score() function, a reader can immediately get an idea of the polarity and subjectiveness of the article. 2 articles were tested below. \n",
        "\n",
        "*Article 1*: China Trade Talks\n",
        "\n",
        "*Article 2*: Impact of GOvernemnet Shutdown on TSA\n",
        "\n",
        "*   Article 1 is more positive than Article 2\n",
        "*   Article 1 is less subjective than Article 2"
      ]
    },
    {
      "metadata": {
        "id": "kyBgFXXo4E2o",
        "colab_type": "code",
        "colab": {}
      },
      "cell_type": "code",
      "source": [
        "def score(target_url):\n",
        "  ## get data from url\n",
        "  page = urllib.request.urlopen(target_url)\n",
        "  soup = BeautifulSoup(page)\n",
        "  paras0 = soup.find_all(\"div\", attrs={\"itemprop\" : \"articleBody\"})[0].find_all(\"p\")\n",
        "  paras1 = soup.find_all(\"div\", attrs={\"itemprop\" : \"articleBody\"})[1].find_all(\"p\")\n",
        "\n",
        "  content0 = \" \".join([para.getText() for para in paras0])\n",
        "  content1 = \" \".join([para.getText() for para in paras1])\n",
        "  content= content0+content1\n",
        "  content\n",
        "\n",
        "  content_sentence = TextBlob(content).sentences\n",
        "  \n",
        "  ## split content into sentences and store each in a row in a dataframe\n",
        "  df = []\n",
        "  for sentence in content_sentence:\n",
        "    text = str(sentence)\n",
        "    text_len = len(text)\n",
        "    df.append(text)\n",
        "\n",
        "  df = pd.DataFrame(df)\n",
        "  df.columns=['sentence']\n",
        "  \n",
        "  ## exclude scoring from sentences with '\"' as they represent a reported statement and should not be judged.\n",
        "  def score_polarity(sentence):\n",
        "    if '\"' not in sentence: \n",
        "      analyze_sentence = TextBlob(sentence)\n",
        "      sentiment_score = analyze_sentence.sentiment\n",
        "      return sentiment_score.polarity\n",
        "\n",
        "  def score_subjectivity(sentence):\n",
        "    if '\"' not in sentence: \n",
        "      analyze_sentence = TextBlob(sentence)\n",
        "      sentiment_score = analyze_sentence.sentiment\n",
        "      return sentiment_score.subjectivity\n",
        "  \n",
        "  ## apply scoring functions\n",
        "  df[\"Polarity\"] = df[\"sentence\"].apply(score_polarity)\n",
        "  polarity_mean = df[\"Polarity\"].mean()\n",
        "  \n",
        "  ## apply scoring functions\n",
        "  df[\"Subjectivity\"] = df[\"sentence\"].apply(score_subjectivity)\n",
        "  subjectivity_mean = df[\"Subjectivity\"].mean()\n",
        "  \n",
        "  print(f\"Article's Polarity Score: {round(polarity_mean,5)} , Article's Subjectivity Score: {round(subjectivity_mean,5)} \")"
      ],
      "execution_count": 0,
      "outputs": []
    },
    {
      "metadata": {
        "id": "-fCgKvtk-b6V",
        "colab_type": "code",
        "outputId": "181e850d-87cb-410d-9b2f-3b3ced7b8d2c",
        "colab": {
          "base_uri": "https://localhost:8080/",
          "height": 34
        }
      },
      "cell_type": "code",
      "source": [
        "score(\"https://www.cnbc.com/2019/01/10/beijing-issues-statement-on-us-china-trade-talks.html\")"
      ],
      "execution_count": 0,
      "outputs": [
        {
          "output_type": "stream",
          "text": [
            "Article's Polarity Score: 0.06421 , Article's Subjectivity Score: 0.26987 \n"
          ],
          "name": "stdout"
        }
      ]
    },
    {
      "metadata": {
        "id": "ZCBI3ul3_HnA",
        "colab_type": "code",
        "outputId": "cf39dceb-d0e4-4021-9859-426a9e64c504",
        "colab": {
          "base_uri": "https://localhost:8080/",
          "height": 34
        }
      },
      "cell_type": "code",
      "source": [
        "score(\"https://www.cnbc.com/2019/01/09/government-shutdown-tsa-officers-set-to-miss-a-paycheck-this-friday.html\")"
      ],
      "execution_count": 0,
      "outputs": [
        {
          "output_type": "stream",
          "text": [
            "Article's Polarity Score: 0.01802 , Article's Subjectivity Score: 0.29645 \n"
          ],
          "name": "stdout"
        }
      ]
    },
    {
      "metadata": {
        "id": "4pi7k-E-TFYm",
        "colab_type": "text"
      },
      "cell_type": "markdown",
      "source": [
        "### 3.2 Comparing Sentiment Scores across different models for \"TEXT\"\n",
        "The below text will be use across section 4 & 5 as well to provide a single comparision of how a statement is rated differently across different sentiment analysis models."
      ]
    },
    {
      "metadata": {
        "id": "Z5J0PSnVSlIZ",
        "colab_type": "code",
        "outputId": "bb933a97-2f99-4a4d-d8dc-88d7029839cb",
        "colab": {
          "base_uri": "https://localhost:8080/",
          "height": 51
        }
      },
      "cell_type": "code",
      "source": [
        "## sentence test\n",
        "text = \"Trade tensions between the two world's largest economies escalated last year, putting global stock markets on edge.\"\n",
        "print(score_polarity(text))\n",
        "print(score_subjectivity(text))"
      ],
      "execution_count": 0,
      "outputs": [
        {
          "output_type": "stream",
          "text": [
            "0.0\n",
            "0.03333333333333333\n"
          ],
          "name": "stdout"
        }
      ]
    },
    {
      "metadata": {
        "id": "53XNKdMEN58g",
        "colab_type": "text"
      },
      "cell_type": "markdown",
      "source": [
        "## 4. GCP Cloud Natural Language"
      ]
    },
    {
      "metadata": {
        "id": "9I-8crLwT2-u",
        "colab_type": "text"
      },
      "cell_type": "markdown",
      "source": [
        "Access to GCP's Cloud Natural Language module requires one to be an authorized user. After setting up yourself as a user on GCP, create and add a new service account. During this process, a json file with your credentials will be created and downloaded. Save the file in a secured environment. The code below will retrieve the information from the file's location."
      ]
    },
    {
      "metadata": {
        "id": "V2eQeKKAeZvY",
        "colab_type": "text"
      },
      "cell_type": "markdown",
      "source": [
        "### 4.1 Connecting to API"
      ]
    },
    {
      "metadata": {
        "id": "X-R-egV3SdGz",
        "colab_type": "code",
        "colab": {}
      },
      "cell_type": "code",
      "source": [
        "from google.cloud import language_v1\n",
        "from google.cloud.language_v1 import enums\n",
        "import six\n",
        "from google.oauth2 import service_account"
      ],
      "execution_count": 0,
      "outputs": []
    },
    {
      "metadata": {
        "id": "JK4yyHtaScT_",
        "colab_type": "code",
        "colab": {}
      },
      "cell_type": "code",
      "source": [
        "## path of credential keys for google\n",
        "creds = './gdrive/My Drive/nimble-root-216300-361f17cf6445.json'\n",
        "credentials = service_account.Credentials.from_service_account_file(creds)\n",
        "client = language_v1.LanguageServiceClient(credentials=credentials)"
      ],
      "execution_count": 0,
      "outputs": []
    },
    {
      "metadata": {
        "id": "0trs7tEteVhd",
        "colab_type": "text"
      },
      "cell_type": "markdown",
      "source": [
        "### 4.2 Comparing Sentiment Scores across different models for \"TEXT\""
      ]
    },
    {
      "metadata": {
        "id": "U1v1CKj7Pain",
        "colab_type": "code",
        "outputId": "9b2a6c03-597c-41f8-edba-b5fbe1b06b53",
        "colab": {
          "base_uri": "https://localhost:8080/",
          "height": 51
        }
      },
      "cell_type": "code",
      "source": [
        "type_ = enums.Document.Type.PLAIN_TEXT\n",
        "document = {'type': type_, 'content': text}\n",
        "\n",
        "response = client.analyze_sentiment(document)\n",
        "sentiment = response.document_sentiment\n",
        "print('Score: {}'.format(sentiment.score))\n",
        "print('Magnitude: {}'.format(sentiment.magnitude))"
      ],
      "execution_count": 0,
      "outputs": [
        {
          "output_type": "stream",
          "text": [
            "Score: 0.699999988079071\n",
            "Magnitude: 0.699999988079071\n"
          ],
          "name": "stdout"
        }
      ]
    },
    {
      "metadata": {
        "id": "gkafGpUUS3P2",
        "colab_type": "code",
        "colab": {}
      },
      "cell_type": "code",
      "source": [
        "## exclude scoring from sentences with '\"' as they represent a reported statement and should not be judged.\n",
        "def score_sentiment_score_gcp(sentence):\n",
        "  if '\"' not in sentence: \n",
        "    type_ = enums.Document.Type.PLAIN_TEXT\n",
        "    document = {'type': type_, 'content': sentence}\n",
        "\n",
        "    response = client.analyze_sentiment(document)\n",
        "    sentiment = response.document_sentiment\n",
        "    return sentiment.score\n",
        " \n",
        "def score_sentiment_magnitude_gcp(sentence):\n",
        "  if '\"' not in sentence: \n",
        "    type_ = enums.Document.Type.PLAIN_TEXT\n",
        "    document = {'type': type_, 'content': sentence}\n",
        "\n",
        "    response = client.analyze_sentiment(document)\n",
        "    sentiment = response.document_sentiment\n",
        "    return sentiment.magnitude"
      ],
      "execution_count": 0,
      "outputs": []
    },
    {
      "metadata": {
        "id": "GEnUzkVpTmNm",
        "colab_type": "code",
        "colab": {}
      },
      "cell_type": "code",
      "source": [
        "df[\"GCP_Sentiment_Score\"] = df[\"sentence\"].apply(score_sentiment_score_gcp)\n",
        "df[\"GCP_Sentiment_Magnitude\"] = df[\"sentence\"].apply(score_sentiment_magnitude_gcp)"
      ],
      "execution_count": 0,
      "outputs": []
    },
    {
      "metadata": {
        "id": "NxuWg_ydTt3A",
        "colab_type": "code",
        "outputId": "8cde732b-53b2-4c58-c999-9a6d60012007",
        "colab": {
          "base_uri": "https://localhost:8080/",
          "height": 289
        }
      },
      "cell_type": "code",
      "source": [
        "df.head()"
      ],
      "execution_count": 0,
      "outputs": [
        {
          "output_type": "execute_result",
          "data": {
            "text/html": [
              "<div>\n",
              "<style scoped>\n",
              "    .dataframe tbody tr th:only-of-type {\n",
              "        vertical-align: middle;\n",
              "    }\n",
              "\n",
              "    .dataframe tbody tr th {\n",
              "        vertical-align: top;\n",
              "    }\n",
              "\n",
              "    .dataframe thead th {\n",
              "        text-align: right;\n",
              "    }\n",
              "</style>\n",
              "<table border=\"1\" class=\"dataframe\">\n",
              "  <thead>\n",
              "    <tr style=\"text-align: right;\">\n",
              "      <th></th>\n",
              "      <th>sentence</th>\n",
              "      <th>Polarity</th>\n",
              "      <th>Subjectivity</th>\n",
              "      <th>GCP_Sentiment_Score</th>\n",
              "      <th>GCP_Sentiment_Magnitude</th>\n",
              "    </tr>\n",
              "  </thead>\n",
              "  <tbody>\n",
              "    <tr>\n",
              "      <th>0</th>\n",
              "      <td>In a Thursday morning statement, China's Commerce Ministry said the just-concluded round of trade talks with the U.S. were extensive and established a foundation for the resolution of each others' concerns.</td>\n",
              "      <td>-0.100000</td>\n",
              "      <td>0.366667</td>\n",
              "      <td>0.1</td>\n",
              "      <td>0.1</td>\n",
              "    </tr>\n",
              "    <tr>\n",
              "      <th>1</th>\n",
              "      <td>Both parties, the Beijing ministry said, agreed to maintain close contact.</td>\n",
              "      <td>0.000000</td>\n",
              "      <td>0.000000</td>\n",
              "      <td>0.0</td>\n",
              "      <td>0.0</td>\n",
              "    </tr>\n",
              "    <tr>\n",
              "      <th>2</th>\n",
              "      <td>Here's the full three-sentence statement, as translated from Chinese by CNBC: From Jan. 7 to 9, China and the U.S. held discussions in Beijing at a vice-ministerial level over the issue of trade.</td>\n",
              "      <td>0.175000</td>\n",
              "      <td>0.275000</td>\n",
              "      <td>-0.1</td>\n",
              "      <td>0.1</td>\n",
              "    </tr>\n",
              "    <tr>\n",
              "      <th>3</th>\n",
              "      <td>Both sides enthusiastically implemented the important agreement of the heads of both countries, and held broad, deep and meticulous discussions on shared observations on trade issues and structural problems, laying the foundation for addressing areas of common concern.</td>\n",
              "      <td>0.040625</td>\n",
              "      <td>0.553125</td>\n",
              "      <td>-0.1</td>\n",
              "      <td>0.1</td>\n",
              "    </tr>\n",
              "    <tr>\n",
              "      <th>4</th>\n",
              "      <td>Both sides agreed to continue to keep in close contact.</td>\n",
              "      <td>0.000000</td>\n",
              "      <td>0.000000</td>\n",
              "      <td>0.0</td>\n",
              "      <td>0.0</td>\n",
              "    </tr>\n",
              "  </tbody>\n",
              "</table>\n",
              "</div>"
            ],
            "text/plain": [
              "                                                                                                                                                                                                                                                                        sentence  \\\n",
              "0  In a Thursday morning statement, China's Commerce Ministry said the just-concluded round of trade talks with the U.S. were extensive and established a foundation for the resolution of each others' concerns.                                                                  \n",
              "1  Both parties, the Beijing ministry said, agreed to maintain close contact.                                                                                                                                                                                                      \n",
              "2  Here's the full three-sentence statement, as translated from Chinese by CNBC: From Jan. 7 to 9, China and the U.S. held discussions in Beijing at a vice-ministerial level over the issue of trade.                                                                             \n",
              "3  Both sides enthusiastically implemented the important agreement of the heads of both countries, and held broad, deep and meticulous discussions on shared observations on trade issues and structural problems, laying the foundation for addressing areas of common concern.   \n",
              "4  Both sides agreed to continue to keep in close contact.                                                                                                                                                                                                                         \n",
              "\n",
              "   Polarity  Subjectivity  GCP_Sentiment_Score  GCP_Sentiment_Magnitude  \n",
              "0 -0.100000  0.366667      0.1                  0.1                      \n",
              "1  0.000000  0.000000      0.0                  0.0                      \n",
              "2  0.175000  0.275000     -0.1                  0.1                      \n",
              "3  0.040625  0.553125     -0.1                  0.1                      \n",
              "4  0.000000  0.000000      0.0                  0.0                      "
            ]
          },
          "metadata": {
            "tags": []
          },
          "execution_count": 27
        }
      ]
    },
    {
      "metadata": {
        "id": "JXdlpeNXcu9y",
        "colab_type": "text"
      },
      "cell_type": "markdown",
      "source": [
        "## 5. AWS Comprehend"
      ]
    },
    {
      "metadata": {
        "id": "P1Y_Bb3sepio",
        "colab_type": "text"
      },
      "cell_type": "markdown",
      "source": [
        "### 5.1 Connecting to API"
      ]
    },
    {
      "metadata": {
        "id": "bpX5fkCNdRhE",
        "colab_type": "code",
        "colab": {}
      },
      "cell_type": "code",
      "source": [
        "import pandas as pd\n",
        "import boto3\n",
        "import json"
      ],
      "execution_count": 0,
      "outputs": []
    },
    {
      "metadata": {
        "id": "0TtQZxsVJTPw",
        "colab_type": "code",
        "colab": {}
      },
      "cell_type": "code",
      "source": [
        "!pip -q install boto3"
      ],
      "execution_count": 0,
      "outputs": []
    },
    {
      "metadata": {
        "id": "dR_IPpuDAcWy",
        "colab_type": "code",
        "outputId": "01da4370-cc7b-4a54-f93c-ed25f203e77d",
        "colab": {
          "base_uri": "https://localhost:8080/",
          "height": 34
        }
      },
      "cell_type": "code",
      "source": [
        "% cd \"/content/gdrive/My Drive\""
      ],
      "execution_count": 0,
      "outputs": [
        {
          "output_type": "stream",
          "text": [
            "/content/gdrive/My Drive\n"
          ],
          "name": "stdout"
        }
      ]
    },
    {
      "metadata": {
        "id": "SSduxK4g_5Zs",
        "colab_type": "code",
        "colab": {}
      },
      "cell_type": "code",
      "source": [
        "## AWS API looks for a file name credentials in a folder called \".aws\". Create \".aws\" folder if it does not exists\n",
        "%mkdir ~/.aws"
      ],
      "execution_count": 0,
      "outputs": []
    },
    {
      "metadata": {
        "id": "wIdqXyw1FMRs",
        "colab_type": "code",
        "outputId": "42382c22-ea14-41ec-8b0b-0624c0566790",
        "colab": {
          "base_uri": "https://localhost:8080/",
          "height": 34
        }
      },
      "cell_type": "code",
      "source": [
        "## AWS API looks for a file name credentials in a folder called \".aws\". Create \"credentials\" file in \".aws\" folder.\n",
        "#%%writefile  ~/.aws/credentials\n",
        "#[default]\n",
        "#aws_access_key_id = xxx\n",
        "#aws_secret_access_key = xxx"
      ],
      "execution_count": 0,
      "outputs": [
        {
          "output_type": "stream",
          "text": [
            "Writing /root/.aws/credentials\n"
          ],
          "name": "stdout"
        }
      ]
    },
    {
      "metadata": {
        "id": "OV1Gxmf5CFXl",
        "colab_type": "code",
        "colab": {}
      },
      "cell_type": "code",
      "source": [
        "comprehend = boto3.client(service_name=\"comprehend\", region_name=\"us-east-1\")"
      ],
      "execution_count": 0,
      "outputs": []
    },
    {
      "metadata": {
        "id": "Qkg8ddczexvP",
        "colab_type": "text"
      },
      "cell_type": "markdown",
      "source": [
        "### 5.2 Comparing Sentiment Scores across different models for \"TEXT\""
      ]
    },
    {
      "metadata": {
        "id": "uu87Qclc_WgF",
        "colab_type": "code",
        "outputId": "18de34b4-b44c-41cc-f165-6856f959916d",
        "colab": {
          "base_uri": "https://localhost:8080/",
          "height": 221
        }
      },
      "cell_type": "code",
      "source": [
        "comprehend.detect_sentiment(Text=text, LanguageCode='en')"
      ],
      "execution_count": 0,
      "outputs": [
        {
          "output_type": "execute_result",
          "data": {
            "text/plain": [
              "{'ResponseMetadata': {'HTTPHeaders': {'content-length': '164',\n",
              "   'content-type': 'application/x-amz-json-1.1',\n",
              "   'date': 'Mon, 18 Mar 2019 17:26:45 GMT',\n",
              "   'x-amzn-requestid': '00b6af9f-49a3-11e9-986c-95336ea97c34'},\n",
              "  'HTTPStatusCode': 200,\n",
              "  'RequestId': '00b6af9f-49a3-11e9-986c-95336ea97c34',\n",
              "  'RetryAttempts': 0},\n",
              " 'Sentiment': 'NEUTRAL',\n",
              " 'SentimentScore': {'Mixed': 0.002225486794486642,\n",
              "  'Negative': 0.013030819594860077,\n",
              "  'Neutral': 0.9728920459747314,\n",
              "  'Positive': 0.011851600371301174}}"
            ]
          },
          "metadata": {
            "tags": []
          },
          "execution_count": 38
        }
      ]
    },
    {
      "metadata": {
        "id": "TCHKHd0Ea5P5",
        "colab_type": "code",
        "colab": {}
      },
      "cell_type": "code",
      "source": [
        "## aws\n",
        "## exclude scoring from sentences with '\"' as they represent a reported statement and should not be judged.\n",
        "def score_aws_mixed(sentence):\n",
        "  if '\"' not in sentence: \n",
        "    sentiment = comprehend.detect_sentiment(Text=sentence, LanguageCode='en')['SentimentScore']['Mixed']\n",
        "    return sentiment\n",
        "\n",
        "def score_aws_negative(sentence):\n",
        "  if '\"' not in sentence: \n",
        "    sentiment = comprehend.detect_sentiment(Text=sentence, LanguageCode='en')['SentimentScore']['Negative']\n",
        "    return sentiment\n",
        "  \n",
        "def score_aws_neutral(sentence):\n",
        "  if '\"' not in sentence: \n",
        "    sentiment = comprehend.detect_sentiment(Text=sentence, LanguageCode='en')['SentimentScore']['Neutral']\n",
        "    return sentiment\n",
        "  \n",
        "def score_aws_positive(sentence):\n",
        "  if '\"' not in sentence: \n",
        "    sentiment = comprehend.detect_sentiment(Text=sentence, LanguageCode='en')['SentimentScore']['Positive']\n",
        "    return sentiment"
      ],
      "execution_count": 0,
      "outputs": []
    },
    {
      "metadata": {
        "id": "eyAgZbH2LQlc",
        "colab_type": "code",
        "colab": {}
      },
      "cell_type": "code",
      "source": [
        "df[\"AWS_Sentiment_Mixed\"] = df[\"sentence\"].apply(score_aws_mixed)\n",
        "df[\"AWS_Sentiment_Negtaive\"] = df[\"sentence\"].apply(score_aws_negative)\n",
        "df[\"AWS_Sentiment_Neutral\"] = df[\"sentence\"].apply(score_aws_neutral)\n",
        "df[\"AWS_Sentiment_Positive\"] = df[\"sentence\"].apply(score_aws_positive)"
      ],
      "execution_count": 0,
      "outputs": []
    },
    {
      "metadata": {
        "id": "z08fo935OTRz",
        "colab_type": "code",
        "outputId": "79200666-5e89-43a7-f9ba-3d6260d93d2c",
        "colab": {
          "base_uri": "https://localhost:8080/",
          "height": 1227
        }
      },
      "cell_type": "code",
      "source": [
        "df.head()"
      ],
      "execution_count": 0,
      "outputs": [
        {
          "output_type": "execute_result",
          "data": {
            "text/html": [
              "<div>\n",
              "<style scoped>\n",
              "    .dataframe tbody tr th:only-of-type {\n",
              "        vertical-align: middle;\n",
              "    }\n",
              "\n",
              "    .dataframe tbody tr th {\n",
              "        vertical-align: top;\n",
              "    }\n",
              "\n",
              "    .dataframe thead th {\n",
              "        text-align: right;\n",
              "    }\n",
              "</style>\n",
              "<table border=\"1\" class=\"dataframe\">\n",
              "  <thead>\n",
              "    <tr style=\"text-align: right;\">\n",
              "      <th></th>\n",
              "      <th>sentence</th>\n",
              "      <th>Polarity</th>\n",
              "      <th>Subjectivity</th>\n",
              "      <th>GCP_Sentiment_Score</th>\n",
              "      <th>GCP_Sentiment_Magnitude</th>\n",
              "      <th>AWS_Sentiment_Mixed</th>\n",
              "      <th>AWS_Sentiment_Negtaive</th>\n",
              "      <th>AWS_Sentiment_Neutral</th>\n",
              "      <th>AWS_Sentiment_Positive</th>\n",
              "    </tr>\n",
              "  </thead>\n",
              "  <tbody>\n",
              "    <tr>\n",
              "      <th>0</th>\n",
              "      <td>In a Thursday morning statement, China's Commerce Ministry said the just-concluded round of trade talks with the U.S. were extensive and established a foundation for the resolution of each others' concerns.</td>\n",
              "      <td>-0.100000</td>\n",
              "      <td>0.366667</td>\n",
              "      <td>0.1</td>\n",
              "      <td>0.1</td>\n",
              "      <td>0.001296</td>\n",
              "      <td>0.005079</td>\n",
              "      <td>0.970925</td>\n",
              "      <td>0.022700</td>\n",
              "    </tr>\n",
              "    <tr>\n",
              "      <th>1</th>\n",
              "      <td>Both parties, the Beijing ministry said, agreed to maintain close contact.</td>\n",
              "      <td>0.000000</td>\n",
              "      <td>0.000000</td>\n",
              "      <td>0.0</td>\n",
              "      <td>0.0</td>\n",
              "      <td>0.006732</td>\n",
              "      <td>0.040127</td>\n",
              "      <td>0.903672</td>\n",
              "      <td>0.049469</td>\n",
              "    </tr>\n",
              "    <tr>\n",
              "      <th>2</th>\n",
              "      <td>Here's the full three-sentence statement, as translated from Chinese by CNBC: From Jan. 7 to 9, China and the U.S. held discussions in Beijing at a vice-ministerial level over the issue of trade.</td>\n",
              "      <td>0.175000</td>\n",
              "      <td>0.275000</td>\n",
              "      <td>-0.1</td>\n",
              "      <td>0.1</td>\n",
              "      <td>0.000378</td>\n",
              "      <td>0.001888</td>\n",
              "      <td>0.997094</td>\n",
              "      <td>0.000640</td>\n",
              "    </tr>\n",
              "    <tr>\n",
              "      <th>3</th>\n",
              "      <td>Both sides enthusiastically implemented the important agreement of the heads of both countries, and held broad, deep and meticulous discussions on shared observations on trade issues and structural problems, laying the foundation for addressing areas of common concern.</td>\n",
              "      <td>0.040625</td>\n",
              "      <td>0.553125</td>\n",
              "      <td>-0.1</td>\n",
              "      <td>0.1</td>\n",
              "      <td>0.002348</td>\n",
              "      <td>0.000434</td>\n",
              "      <td>0.179779</td>\n",
              "      <td>0.817439</td>\n",
              "    </tr>\n",
              "    <tr>\n",
              "      <th>4</th>\n",
              "      <td>Both sides agreed to continue to keep in close contact.</td>\n",
              "      <td>0.000000</td>\n",
              "      <td>0.000000</td>\n",
              "      <td>0.0</td>\n",
              "      <td>0.0</td>\n",
              "      <td>0.010788</td>\n",
              "      <td>0.030742</td>\n",
              "      <td>0.475260</td>\n",
              "      <td>0.483210</td>\n",
              "    </tr>\n",
              "  </tbody>\n",
              "</table>\n",
              "</div>"
            ],
            "text/plain": [
              "                                                                                                                                                                                                                                                                        sentence  \\\n",
              "0  In a Thursday morning statement, China's Commerce Ministry said the just-concluded round of trade talks with the U.S. were extensive and established a foundation for the resolution of each others' concerns.                                                                  \n",
              "1  Both parties, the Beijing ministry said, agreed to maintain close contact.                                                                                                                                                                                                      \n",
              "2  Here's the full three-sentence statement, as translated from Chinese by CNBC: From Jan. 7 to 9, China and the U.S. held discussions in Beijing at a vice-ministerial level over the issue of trade.                                                                             \n",
              "3  Both sides enthusiastically implemented the important agreement of the heads of both countries, and held broad, deep and meticulous discussions on shared observations on trade issues and structural problems, laying the foundation for addressing areas of common concern.   \n",
              "4  Both sides agreed to continue to keep in close contact.                                                                                                                                                                                                                         \n",
              "\n",
              "   Polarity  Subjectivity  GCP_Sentiment_Score  GCP_Sentiment_Magnitude  \\\n",
              "0 -0.100000  0.366667      0.1                  0.1                       \n",
              "1  0.000000  0.000000      0.0                  0.0                       \n",
              "2  0.175000  0.275000     -0.1                  0.1                       \n",
              "3  0.040625  0.553125     -0.1                  0.1                       \n",
              "4  0.000000  0.000000      0.0                  0.0                       \n",
              "\n",
              "   AWS_Sentiment_Mixed  AWS_Sentiment_Negtaive  AWS_Sentiment_Neutral  \\\n",
              "0  0.001296             0.005079                0.970925                \n",
              "1  0.006732             0.040127                0.903672                \n",
              "2  0.000378             0.001888                0.997094                \n",
              "3  0.002348             0.000434                0.179779                \n",
              "4  0.010788             0.030742                0.475260                \n",
              "\n",
              "   AWS_Sentiment_Positive  \n",
              "0  0.022700                \n",
              "1  0.049469                \n",
              "2  0.000640                \n",
              "3  0.817439                \n",
              "4  0.483210                "
            ]
          },
          "metadata": {
            "tags": []
          },
          "execution_count": 41
        }
      ]
    },
    {
      "metadata": {
        "id": "P6RLybJESANE",
        "colab_type": "text"
      },
      "cell_type": "markdown",
      "source": [
        "## 6. Conclusion"
      ]
    },
    {
      "metadata": {
        "id": "1_JVa1N5WEws",
        "colab_type": "text"
      },
      "cell_type": "markdown",
      "source": [
        "Using different systems can produce results that may not be easily comparable. While the magnitude of each metrics may vary, the overall direction should be consistent."
      ]
    },
    {
      "metadata": {
        "id": "jJWgGaFRfdSd",
        "colab_type": "code",
        "outputId": "dc0cfb45-129f-4ecf-f727-09bf82f7da85",
        "colab": {
          "base_uri": "https://localhost:8080/",
          "height": 102
        }
      },
      "cell_type": "code",
      "source": [
        "df.columns"
      ],
      "execution_count": 0,
      "outputs": [
        {
          "output_type": "execute_result",
          "data": {
            "text/plain": [
              "Index(['sentence', 'Polarity', 'Subjectivity', 'GCP_Sentiment_Score',\n",
              "       'GCP_Sentiment_Magnitude', 'AWS_Sentiment_Mixed',\n",
              "       'AWS_Sentiment_Negtaive', 'AWS_Sentiment_Neutral',\n",
              "       'AWS_Sentiment_Positive'],\n",
              "      dtype='object')"
            ]
          },
          "metadata": {
            "tags": []
          },
          "execution_count": 42
        }
      ]
    },
    {
      "metadata": {
        "id": "aLDUW3XrN53_",
        "colab_type": "code",
        "outputId": "69204083-8f38-49c2-fece-781dee87b6dd",
        "colab": {
          "base_uri": "https://localhost:8080/",
          "height": 479
        }
      },
      "cell_type": "code",
      "source": [
        "import seaborn as sns\n",
        "sns.heatmap(df[['Polarity', 'Subjectivity', 'GCP_Sentiment_Score',\n",
        "       'GCP_Sentiment_Magnitude', 'AWS_Sentiment_Mixed',\n",
        "       'AWS_Sentiment_Negtaive', 'AWS_Sentiment_Neutral',\n",
        "       'AWS_Sentiment_Positive']].head().corr(),annot=True)"
      ],
      "execution_count": 0,
      "outputs": [
        {
          "output_type": "execute_result",
          "data": {
            "text/plain": [
              "<matplotlib.axes._subplots.AxesSubplot at 0x7f9b3f585cf8>"
            ]
          },
          "metadata": {
            "tags": []
          },
          "execution_count": 43
        },
        {
          "output_type": "display_data",
          "data": {
            "image/png": "[encoded data removed]",
            "text/plain": [
              "<Figure size 576x396 with 2 Axes>"
            ]
          },
          "metadata": {
            "tags": []
          }
        }
      ]
    },
    {
      "metadata": {
        "id": "nqKPmpl5WCql",
        "colab_type": "code",
        "colab": {}
      },
      "cell_type": "code",
      "source": [
        ""
      ],
      "execution_count": 0,
      "outputs": []
    }
  ]
}